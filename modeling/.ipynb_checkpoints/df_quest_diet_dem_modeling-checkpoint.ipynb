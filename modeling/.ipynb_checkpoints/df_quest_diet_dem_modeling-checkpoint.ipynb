{
 "cells": [
  {
   "cell_type": "code",
   "execution_count": 3,
   "id": "5450f74e",
   "metadata": {},
   "outputs": [],
   "source": [
    "import pandas as pd\n",
    "import numpy as np\n",
    "import matplotlib.pyplot as plt\n",
    "from sklearn.preprocessing import StandardScaler\n",
    "from sklearn.model_selection import train_test_split\n",
    "from sklearn.model_selection import GridSearchCV\n",
    "from IPython.display import Markdown, display\n",
    "from sklearn.metrics import classification_report, confusion_matrix, f1_score, accuracy_score, precision_recall_curve, roc_curve, auc\n",
    "from sklearn.tree import DecisionTreeClassifier, plot_tree\n",
    "from sklearn import tree\n",
    "from sklearn.neighbors import KNeighborsClassifier\n",
    "from sklearn.ensemble import VotingClassifier\n",
    "from interpret.glassbox import (LogisticRegression,\n",
    "                                ClassificationTree,\n",
    "                                ExplainableBoostingClassifier)\n",
    "from sklearn.ensemble import RandomForestClassifier\n",
    "from sklearn.ensemble import GradientBoostingClassifier\n",
    "from interpret.blackbox import LimeTabular\n",
    "from collections import Counter\n",
    "from imblearn.over_sampling import RandomOverSampler\n",
    "from imblearn.under_sampling import NearMiss, TomekLinks\n",
    "from imblearn.combine import SMOTETomek\n",
    "from interpret import show\n",
    "import shap\n",
    "%matplotlib inline"
   ]
  },
  {
   "cell_type": "code",
   "execution_count": 4,
   "id": "2c782e08",
   "metadata": {},
   "outputs": [],
   "source": [
    "df = pd.read_csv('../csv/df.csv',index_col=0)"
   ]
  },
  {
   "cell_type": "code",
   "execution_count": 5,
   "id": "a4d950ad",
   "metadata": {
    "scrolled": true
   },
   "outputs": [
    {
     "name": "stdout",
     "output_type": "stream",
     "text": [
      "<class 'pandas.core.frame.DataFrame'>\n",
      "Int64Index: 5372 entries, 73557 to 83727\n",
      "Data columns (total 60 columns):\n",
      " #   Column                        Non-Null Count  Dtype  \n",
      "---  ------                        --------------  -----  \n",
      " 0   gender                        5372 non-null   object \n",
      " 1   age                           5372 non-null   int64  \n",
      " 2   race                          5372 non-null   object \n",
      " 3   education_level               5372 non-null   object \n",
      " 4   marital_status                5372 non-null   object \n",
      " 5   people_in_the_household       5372 non-null   int64  \n",
      " 6   annual_household_income       5372 non-null   int64  \n",
      " 7   citizenship_status            5372 non-null   object \n",
      " 8   total_cholesterol             5372 non-null   float64\n",
      " 9   HDL-cholesterol               5372 non-null   float64\n",
      " 10  LDL-cholesterol               5372 non-null   float64\n",
      " 11  triglyceride                  5372 non-null   float64\n",
      " 12  lymphocyte_percent            5372 non-null   float64\n",
      " 13  monocyte_percent              5372 non-null   float64\n",
      " 14  neutrophils_percent           5372 non-null   float64\n",
      " 15  eosinophils_percent           5372 non-null   float64\n",
      " 16  basophils_percent             5372 non-null   float64\n",
      " 17  hematocrit_percent            5372 non-null   float64\n",
      " 18  vitamin_B12                   5372 non-null   float64\n",
      " 19  albumin                       5372 non-null   float64\n",
      " 20  AST                           5372 non-null   float64\n",
      " 21  ALT                           5372 non-null   float64\n",
      " 22  blood_urea_nitrogen           5372 non-null   float64\n",
      " 23  bicarbonate                   5372 non-null   float64\n",
      " 24  total_calcium                 5372 non-null   float64\n",
      " 25  CPK                           5372 non-null   float64\n",
      " 26  chloride                      5372 non-null   float64\n",
      " 27  creatinine                    5372 non-null   float64\n",
      " 28  globulin                      5372 non-null   float64\n",
      " 29  glucose                       5372 non-null   float64\n",
      " 30  gamma_glutamyl_transferase    5372 non-null   float64\n",
      " 31  iron                          5372 non-null   float64\n",
      " 32  potassium                     5372 non-null   float64\n",
      " 33  lactate_dehydrogenase         5372 non-null   float64\n",
      " 34  sodium                        5372 non-null   float64\n",
      " 35  osmolality                    5372 non-null   float64\n",
      " 36  phosphorus                    5372 non-null   float64\n",
      " 37  total_bilirubin               5372 non-null   float64\n",
      " 38  total_protein                 5372 non-null   float64\n",
      " 39  uric_acid                     5372 non-null   float64\n",
      " 40  pulse                         5372 non-null   float64\n",
      " 41  irregular_pulse               5372 non-null   float64\n",
      " 42  systolic_blood_pressure       5372 non-null   float64\n",
      " 43  diastoli_blood_pressure       5372 non-null   float64\n",
      " 44  BMI                           5372 non-null   float64\n",
      " 45  alcohol_lifetime              5372 non-null   object \n",
      " 46  binge_drinking_lifetime       5372 non-null   object \n",
      " 47  number_drinks_last_year       5372 non-null   int64  \n",
      " 48  age_started_smoking           5372 non-null   int64  \n",
      " 49  smoke_lifetime                5372 non-null   object \n",
      " 50  number_cigarettes_last_month  5372 non-null   int64  \n",
      " 51  hours_sleep                   5372 non-null   int64  \n",
      " 52  trouble_sleeping_history      5372 non-null   object \n",
      " 53  minutes_sedentary_activity    5372 non-null   int64  \n",
      " 54  physical_activity_level       5372 non-null   object \n",
      " 55  macro_score                   5372 non-null   int64  \n",
      " 56  mineral_score                 5372 non-null   int64  \n",
      " 57  vitamin_score                 5372 non-null   int64  \n",
      " 58  total_nutrient_score          5372 non-null   int64  \n",
      " 59  depression_status             5372 non-null   object \n",
      "dtypes: float64(37), int64(12), object(11)\n",
      "memory usage: 2.5+ MB\n"
     ]
    }
   ],
   "source": [
    "df.info()"
   ]
  },
  {
   "cell_type": "code",
   "execution_count": 6,
   "id": "7608e9e0",
   "metadata": {},
   "outputs": [
    {
     "data": {
      "text/html": [
       "<div>\n",
       "<style scoped>\n",
       "    .dataframe tbody tr th:only-of-type {\n",
       "        vertical-align: middle;\n",
       "    }\n",
       "\n",
       "    .dataframe tbody tr th {\n",
       "        vertical-align: top;\n",
       "    }\n",
       "\n",
       "    .dataframe thead th {\n",
       "        text-align: right;\n",
       "    }\n",
       "</style>\n",
       "<table border=\"1\" class=\"dataframe\">\n",
       "  <thead>\n",
       "    <tr style=\"text-align: right;\">\n",
       "      <th></th>\n",
       "      <th>gender</th>\n",
       "      <th>age</th>\n",
       "      <th>race</th>\n",
       "      <th>education_level</th>\n",
       "      <th>marital_status</th>\n",
       "      <th>people_in_the_household</th>\n",
       "      <th>annual_household_income</th>\n",
       "      <th>citizenship_status</th>\n",
       "      <th>total_cholesterol</th>\n",
       "      <th>HDL-cholesterol</th>\n",
       "      <th>...</th>\n",
       "      <th>number_cigarettes_last_month</th>\n",
       "      <th>hours_sleep</th>\n",
       "      <th>trouble_sleeping_history</th>\n",
       "      <th>minutes_sedentary_activity</th>\n",
       "      <th>physical_activity_level</th>\n",
       "      <th>macro_score</th>\n",
       "      <th>mineral_score</th>\n",
       "      <th>vitamin_score</th>\n",
       "      <th>total_nutrient_score</th>\n",
       "      <th>depression_status</th>\n",
       "    </tr>\n",
       "    <tr>\n",
       "      <th>SEQN</th>\n",
       "      <th></th>\n",
       "      <th></th>\n",
       "      <th></th>\n",
       "      <th></th>\n",
       "      <th></th>\n",
       "      <th></th>\n",
       "      <th></th>\n",
       "      <th></th>\n",
       "      <th></th>\n",
       "      <th></th>\n",
       "      <th></th>\n",
       "      <th></th>\n",
       "      <th></th>\n",
       "      <th></th>\n",
       "      <th></th>\n",
       "      <th></th>\n",
       "      <th></th>\n",
       "      <th></th>\n",
       "      <th></th>\n",
       "      <th></th>\n",
       "      <th></th>\n",
       "    </tr>\n",
       "  </thead>\n",
       "  <tbody>\n",
       "    <tr>\n",
       "      <th>73557</th>\n",
       "      <td>male</td>\n",
       "      <td>69</td>\n",
       "      <td>black</td>\n",
       "      <td>high_school</td>\n",
       "      <td>separated</td>\n",
       "      <td>3</td>\n",
       "      <td>4</td>\n",
       "      <td>citizen</td>\n",
       "      <td>167.0</td>\n",
       "      <td>65.0</td>\n",
       "      <td>...</td>\n",
       "      <td>0</td>\n",
       "      <td>7</td>\n",
       "      <td>Yes</td>\n",
       "      <td>600</td>\n",
       "      <td>sedentary</td>\n",
       "      <td>3</td>\n",
       "      <td>3</td>\n",
       "      <td>2</td>\n",
       "      <td>8</td>\n",
       "      <td>not_depressed</td>\n",
       "    </tr>\n",
       "    <tr>\n",
       "      <th>73558</th>\n",
       "      <td>male</td>\n",
       "      <td>54</td>\n",
       "      <td>white</td>\n",
       "      <td>high_school</td>\n",
       "      <td>married</td>\n",
       "      <td>4</td>\n",
       "      <td>7</td>\n",
       "      <td>citizen</td>\n",
       "      <td>170.0</td>\n",
       "      <td>50.0</td>\n",
       "      <td>...</td>\n",
       "      <td>1</td>\n",
       "      <td>9</td>\n",
       "      <td>No</td>\n",
       "      <td>540</td>\n",
       "      <td>moderately_active</td>\n",
       "      <td>3</td>\n",
       "      <td>1</td>\n",
       "      <td>1</td>\n",
       "      <td>5</td>\n",
       "      <td>not_depressed</td>\n",
       "    </tr>\n",
       "    <tr>\n",
       "      <th>73559</th>\n",
       "      <td>male</td>\n",
       "      <td>72</td>\n",
       "      <td>white</td>\n",
       "      <td>some_college</td>\n",
       "      <td>married</td>\n",
       "      <td>2</td>\n",
       "      <td>10</td>\n",
       "      <td>citizen</td>\n",
       "      <td>126.0</td>\n",
       "      <td>60.0</td>\n",
       "      <td>...</td>\n",
       "      <td>0</td>\n",
       "      <td>8</td>\n",
       "      <td>No</td>\n",
       "      <td>300</td>\n",
       "      <td>moderately_active</td>\n",
       "      <td>3</td>\n",
       "      <td>0</td>\n",
       "      <td>3</td>\n",
       "      <td>6</td>\n",
       "      <td>not_depressed</td>\n",
       "    </tr>\n",
       "    <tr>\n",
       "      <th>73561</th>\n",
       "      <td>female</td>\n",
       "      <td>73</td>\n",
       "      <td>white</td>\n",
       "      <td>college_graduate</td>\n",
       "      <td>married</td>\n",
       "      <td>2</td>\n",
       "      <td>12</td>\n",
       "      <td>citizen</td>\n",
       "      <td>201.0</td>\n",
       "      <td>85.0</td>\n",
       "      <td>...</td>\n",
       "      <td>0</td>\n",
       "      <td>9</td>\n",
       "      <td>No</td>\n",
       "      <td>480</td>\n",
       "      <td>moderately_active</td>\n",
       "      <td>3</td>\n",
       "      <td>0</td>\n",
       "      <td>2</td>\n",
       "      <td>5</td>\n",
       "      <td>not_depressed</td>\n",
       "    </tr>\n",
       "    <tr>\n",
       "      <th>73562</th>\n",
       "      <td>male</td>\n",
       "      <td>56</td>\n",
       "      <td>mexican</td>\n",
       "      <td>some_college</td>\n",
       "      <td>divorced</td>\n",
       "      <td>1</td>\n",
       "      <td>9</td>\n",
       "      <td>citizen</td>\n",
       "      <td>226.0</td>\n",
       "      <td>38.0</td>\n",
       "      <td>...</td>\n",
       "      <td>0</td>\n",
       "      <td>5</td>\n",
       "      <td>No</td>\n",
       "      <td>360</td>\n",
       "      <td>active</td>\n",
       "      <td>1</td>\n",
       "      <td>0</td>\n",
       "      <td>5</td>\n",
       "      <td>6</td>\n",
       "      <td>depressed</td>\n",
       "    </tr>\n",
       "  </tbody>\n",
       "</table>\n",
       "<p>5 rows × 60 columns</p>\n",
       "</div>"
      ],
      "text/plain": [
       "       gender  age     race   education_level marital_status  \\\n",
       "SEQN                                                           \n",
       "73557    male   69    black       high_school      separated   \n",
       "73558    male   54    white       high_school        married   \n",
       "73559    male   72    white      some_college        married   \n",
       "73561  female   73    white  college_graduate        married   \n",
       "73562    male   56  mexican      some_college       divorced   \n",
       "\n",
       "       people_in_the_household  annual_household_income citizenship_status  \\\n",
       "SEQN                                                                         \n",
       "73557                        3                        4            citizen   \n",
       "73558                        4                        7            citizen   \n",
       "73559                        2                       10            citizen   \n",
       "73561                        2                       12            citizen   \n",
       "73562                        1                        9            citizen   \n",
       "\n",
       "       total_cholesterol  HDL-cholesterol  ...  number_cigarettes_last_month  \\\n",
       "SEQN                                       ...                                 \n",
       "73557              167.0             65.0  ...                             0   \n",
       "73558              170.0             50.0  ...                             1   \n",
       "73559              126.0             60.0  ...                             0   \n",
       "73561              201.0             85.0  ...                             0   \n",
       "73562              226.0             38.0  ...                             0   \n",
       "\n",
       "       hours_sleep  trouble_sleeping_history  minutes_sedentary_activity  \\\n",
       "SEQN                                                                       \n",
       "73557            7                       Yes                         600   \n",
       "73558            9                        No                         540   \n",
       "73559            8                        No                         300   \n",
       "73561            9                        No                         480   \n",
       "73562            5                        No                         360   \n",
       "\n",
       "       physical_activity_level  macro_score  mineral_score  vitamin_score  \\\n",
       "SEQN                                                                        \n",
       "73557                sedentary            3              3              2   \n",
       "73558        moderately_active            3              1              1   \n",
       "73559        moderately_active            3              0              3   \n",
       "73561        moderately_active            3              0              2   \n",
       "73562                   active            1              0              5   \n",
       "\n",
       "       total_nutrient_score  depression_status  \n",
       "SEQN                                            \n",
       "73557                     8      not_depressed  \n",
       "73558                     5      not_depressed  \n",
       "73559                     6      not_depressed  \n",
       "73561                     5      not_depressed  \n",
       "73562                     6          depressed  \n",
       "\n",
       "[5 rows x 60 columns]"
      ]
     },
     "execution_count": 6,
     "metadata": {},
     "output_type": "execute_result"
    }
   ],
   "source": [
    "df.head()"
   ]
  },
  {
   "cell_type": "code",
   "execution_count": 7,
   "id": "aa37785c",
   "metadata": {
    "scrolled": true
   },
   "outputs": [
    {
     "data": {
      "text/plain": [
       "['gender',\n",
       " 'age',\n",
       " 'race',\n",
       " 'education_level',\n",
       " 'marital_status',\n",
       " 'people_in_the_household',\n",
       " 'annual_household_income',\n",
       " 'citizenship_status',\n",
       " 'total_cholesterol',\n",
       " 'HDL-cholesterol',\n",
       " 'LDL-cholesterol',\n",
       " 'triglyceride',\n",
       " 'lymphocyte_percent',\n",
       " 'monocyte_percent',\n",
       " 'neutrophils_percent',\n",
       " 'eosinophils_percent',\n",
       " 'basophils_percent',\n",
       " 'hematocrit_percent',\n",
       " 'vitamin_B12',\n",
       " 'albumin',\n",
       " 'AST',\n",
       " 'ALT',\n",
       " 'blood_urea_nitrogen',\n",
       " 'bicarbonate',\n",
       " 'total_calcium',\n",
       " 'CPK',\n",
       " 'chloride',\n",
       " 'creatinine',\n",
       " 'globulin',\n",
       " 'glucose',\n",
       " 'gamma_glutamyl_transferase',\n",
       " 'iron',\n",
       " 'potassium',\n",
       " 'lactate_dehydrogenase',\n",
       " 'sodium',\n",
       " 'osmolality',\n",
       " 'phosphorus',\n",
       " 'total_bilirubin',\n",
       " 'total_protein',\n",
       " 'uric_acid',\n",
       " 'pulse',\n",
       " 'irregular_pulse',\n",
       " 'systolic_blood_pressure',\n",
       " 'diastoli_blood_pressure',\n",
       " 'BMI',\n",
       " 'alcohol_lifetime',\n",
       " 'binge_drinking_lifetime',\n",
       " 'number_drinks_last_year',\n",
       " 'age_started_smoking',\n",
       " 'smoke_lifetime',\n",
       " 'number_cigarettes_last_month',\n",
       " 'hours_sleep',\n",
       " 'trouble_sleeping_history',\n",
       " 'minutes_sedentary_activity',\n",
       " 'physical_activity_level',\n",
       " 'macro_score',\n",
       " 'mineral_score',\n",
       " 'vitamin_score',\n",
       " 'total_nutrient_score',\n",
       " 'depression_status']"
      ]
     },
     "execution_count": 7,
     "metadata": {},
     "output_type": "execute_result"
    }
   ],
   "source": [
    "df.columns.tolist()"
   ]
  },
  {
   "cell_type": "code",
   "execution_count": 8,
   "id": "ed904678",
   "metadata": {
    "scrolled": true
   },
   "outputs": [
    {
     "name": "stdout",
     "output_type": "stream",
     "text": [
      "<class 'pandas.core.frame.DataFrame'>\n",
      "Int64Index: 5372 entries, 73557 to 83727\n",
      "Data columns (total 17 columns):\n",
      " #   Column                                     Non-Null Count  Dtype\n",
      "---  ------                                     --------------  -----\n",
      " 0   alcohol_lifetime                           5372 non-null   int64\n",
      " 1   binge_drinking_lifetime                    5372 non-null   int64\n",
      " 2   number_drinks_last_year                    5372 non-null   int64\n",
      " 3   age_started_smoking                        5372 non-null   int64\n",
      " 4   smoke_lifetime                             5372 non-null   int64\n",
      " 5   number_cigarettes_last_month               5372 non-null   int64\n",
      " 6   hours_sleep                                5372 non-null   int64\n",
      " 7   trouble_sleeping_history                   5372 non-null   int64\n",
      " 8   minutes_sedentary_activity                 5372 non-null   int64\n",
      " 9   macro_score                                5372 non-null   int64\n",
      " 10  mineral_score                              5372 non-null   int64\n",
      " 11  vitamin_score                              5372 non-null   int64\n",
      " 12  total_nutrient_score                       5372 non-null   int64\n",
      " 13  depression_status                          5372 non-null   int64\n",
      " 14  physical_activity_level_active             5372 non-null   uint8\n",
      " 15  physical_activity_level_moderately_active  5372 non-null   uint8\n",
      " 16  physical_activity_level_sedentary          5372 non-null   uint8\n",
      "dtypes: int64(14), uint8(3)\n",
      "memory usage: 645.3 KB\n"
     ]
    }
   ],
   "source": [
    "%run \"functions.ipynb\"\n",
    "features = ['alcohol_lifetime',\n",
    "             'binge_drinking_lifetime',\n",
    "             'number_drinks_last_year',\n",
    "             'age_started_smoking',\n",
    "             'smoke_lifetime',\n",
    "             'number_cigarettes_last_month',\n",
    "             'hours_sleep',\n",
    "             'trouble_sleeping_history',\n",
    "             'minutes_sedentary_activity',\n",
    "             'physical_activity_level',\n",
    "             'macro_score',\n",
    "             'mineral_score',\n",
    "             'vitamin_score',\n",
    "             'total_nutrient_score',\n",
    "             'depression_status']\n",
    "df_quest_diet_dem = select_features(df, features)\n",
    "df_quest_diet_dem = preprocess_binary_responses(df_quest_diet_dem)\n",
    "df_quest_diet_dem = one_hot_encode_object_columns(df_quest_diet_dem)"
   ]
  },
  {
   "cell_type": "code",
   "execution_count": 9,
   "id": "7bb9db08",
   "metadata": {},
   "outputs": [],
   "source": [
    "# df_std = standarized_data(df_quest_diet_dem)\n",
    "# df_std.head()"
   ]
  },
  {
   "cell_type": "code",
   "execution_count": 10,
   "id": "f50c5428",
   "metadata": {},
   "outputs": [],
   "source": [
    "# df_quest_diet_dem = normalized_data(df_quest_diet_dem)\n",
    "# df_quest_diet_dem.head()"
   ]
  },
  {
   "cell_type": "markdown",
   "id": "5e05e1a2",
   "metadata": {},
   "source": [
    "SPLIT TRAIN AND TEST"
   ]
  },
  {
   "cell_type": "code",
   "execution_count": 11,
   "id": "2dc6892f",
   "metadata": {},
   "outputs": [],
   "source": [
    "# %run \"functions.ipynb\"\n",
    "# X_train_std, X_test_std, y_train_std, y_test_std = split_data(df_std, target_column='depression_status', test_size=0.3, random_state=42)"
   ]
  },
  {
   "cell_type": "code",
   "execution_count": 12,
   "id": "b7b39700",
   "metadata": {
    "scrolled": false
   },
   "outputs": [],
   "source": [
    "%run \"functions.ipynb\"\n",
    "X_train, X_test, y_train, y_test = split_data(df_quest_diet_dem, target_column='depression_status', test_size=0.3, random_state=42)"
   ]
  },
  {
   "cell_type": "markdown",
   "id": "0aef0010",
   "metadata": {},
   "source": [
    "OVERSAMPLING"
   ]
  },
  {
   "cell_type": "code",
   "execution_count": 13,
   "id": "20a3cef2",
   "metadata": {},
   "outputs": [
    {
     "name": "stdout",
     "output_type": "stream",
     "text": [
      "Before oversampling: [(0, 3402), (1, 358)]\n",
      "After oversampling: [(0, 3402), (1, 3402)]\n"
     ]
    }
   ],
   "source": [
    "%run \"functions.ipynb\"\n",
    "X_train, y_train = oversample_data(X_train, y_train, strategy='auto')"
   ]
  },
  {
   "cell_type": "markdown",
   "id": "138e3484",
   "metadata": {},
   "source": [
    "UNDERSAMPLING"
   ]
  },
  {
   "cell_type": "code",
   "execution_count": 14,
   "id": "15974760",
   "metadata": {},
   "outputs": [
    {
     "ename": "NameError",
     "evalue": "name 'X_train_std' is not defined",
     "output_type": "error",
     "traceback": [
      "\u001b[1;31m---------------------------------------------------------------------------\u001b[0m",
      "\u001b[1;31mNameError\u001b[0m                                 Traceback (most recent call last)",
      "\u001b[1;32m~\\AppData\\Local\\Temp\\ipykernel_32620\\2763373918.py\u001b[0m in \u001b[0;36m<module>\u001b[1;34m\u001b[0m\n\u001b[0;32m      1\u001b[0m \u001b[0mget_ipython\u001b[0m\u001b[1;33m(\u001b[0m\u001b[1;33m)\u001b[0m\u001b[1;33m.\u001b[0m\u001b[0mrun_line_magic\u001b[0m\u001b[1;33m(\u001b[0m\u001b[1;34m'run'\u001b[0m\u001b[1;33m,\u001b[0m \u001b[1;34m'\"functions.ipynb\"'\u001b[0m\u001b[1;33m)\u001b[0m\u001b[1;33m\u001b[0m\u001b[1;33m\u001b[0m\u001b[0m\n\u001b[1;32m----> 2\u001b[1;33m \u001b[0mX_train_std\u001b[0m\u001b[1;33m,\u001b[0m \u001b[0my_train_std\u001b[0m \u001b[1;33m=\u001b[0m \u001b[0mundersample_data\u001b[0m\u001b[1;33m(\u001b[0m\u001b[0mX_train_std\u001b[0m\u001b[1;33m,\u001b[0m \u001b[0my_train_std\u001b[0m\u001b[1;33m)\u001b[0m\u001b[1;33m\u001b[0m\u001b[1;33m\u001b[0m\u001b[0m\n\u001b[0m",
      "\u001b[1;31mNameError\u001b[0m: name 'X_train_std' is not defined"
     ]
    }
   ],
   "source": [
    "%run \"functions.ipynb\"\n",
    "X_train_std, y_train_std = undersample_data(X_train_std, y_train_std)\n"
   ]
  },
  {
   "cell_type": "markdown",
   "id": "5e204b3d",
   "metadata": {},
   "source": [
    "MODELOS... DECISION TREE, RANDOM FOREST + SHAP, LIME..."
   ]
  },
  {
   "cell_type": "code",
   "execution_count": null,
   "id": "b0081702",
   "metadata": {},
   "outputs": [],
   "source": [
    "%run \"functions.ipynb\"\n",
    "decision_tree_classification(X_train, y_train, X_test, y_test, max_depth=4, random_state=42)"
   ]
  },
  {
   "cell_type": "code",
   "execution_count": null,
   "id": "986093b0",
   "metadata": {
    "scrolled": false
   },
   "outputs": [],
   "source": [
    "%run \"functions.ipynb\"\n",
    "explain_tree(X_train, y_train, X_test, y_test)"
   ]
  },
  {
   "cell_type": "markdown",
   "id": "f0c7d808",
   "metadata": {},
   "source": [
    "Explainable Boosting Machine"
   ]
  },
  {
   "cell_type": "code",
   "execution_count": null,
   "id": "93319334",
   "metadata": {},
   "outputs": [],
   "source": [
    "%run \"functions.ipynb\"\n",
    "explain_ebm(X_train, y_train, X_test, y_test)"
   ]
  },
  {
   "cell_type": "markdown",
   "id": "1d831398",
   "metadata": {},
   "source": [
    "Random Forest (black-box model)"
   ]
  },
  {
   "cell_type": "code",
   "execution_count": null,
   "id": "a21ea116",
   "metadata": {},
   "outputs": [],
   "source": [
    "%run \"functions.ipynb\"\n",
    "rf = random_forest(X_train, y_train, X_test, y_test, n_estimators=100, random_state=42, class_weight='balanced')"
   ]
  },
  {
   "cell_type": "code",
   "execution_count": null,
   "id": "f312dcf5",
   "metadata": {},
   "outputs": [],
   "source": [
    "%run \"functions.ipynb\"\n",
    "gbm = random_forest(X_train, y_train, X_test, y_test)"
   ]
  },
  {
   "cell_type": "code",
   "execution_count": null,
   "id": "3fd865e4",
   "metadata": {},
   "outputs": [],
   "source": [
    "%run \"functions.ipynb\"\n",
    "lr = lr(X_train_std, y_train_std, X_test_std, y_test_std)"
   ]
  },
  {
   "cell_type": "code",
   "execution_count": null,
   "id": "1d393a84",
   "metadata": {
    "scrolled": true
   },
   "outputs": [],
   "source": [
    "import shap\n",
    "shap.initjs()\n",
    "\n",
    "# Entrenar el modelo de regresión logística\n",
    "logistic_model = LogisticRegression()\n",
    "logistic_model.fit(X_train_std, y_train_std)\n",
    "\n",
    "sample = shap.sample(X_train_std, 100)\n",
    "\n",
    "# Calculate SHAP values for the selected data\n",
    "shap_values = explainer.shap_values(X_test.iloc[1:30])\n",
    "\n",
    "# Crear explainer usando KernelExplainer\n",
    "explainer = shap.KernelExplainer(logistic_model.predict_proba, sample)\n",
    "\n",
    "# Obtener valores SHAP\n",
    "shap_values = explainer.shap_values(X_test_std)\n",
    "\n",
    "display(shap.force_plot(explainer.expected_value[1], shap_values[1], X_test.iloc[1:30]))  \n",
    "\n",
    "# Visualizar\n",
    "shap.summary_plot(shap_values, X_test_std)"
   ]
  },
  {
   "cell_type": "code",
   "execution_count": null,
   "id": "ae3d55e4",
   "metadata": {},
   "outputs": [],
   "source": [
    "shap.initjs()\n",
    "display(shap.force_plot(explainer.expected_value[1], shap_values[1], X_test.iloc[0:300]))  "
   ]
  },
  {
   "cell_type": "code",
   "execution_count": null,
   "id": "61ca7a5b",
   "metadata": {},
   "outputs": [],
   "source": [
    "shap.summary_plot(shap_values, X_test_std)"
   ]
  },
  {
   "cell_type": "code",
   "execution_count": null,
   "id": "751f7df6",
   "metadata": {},
   "outputs": [],
   "source": [
    "# Inicializa los clasificadores base\n",
    "knn = KNeighborsClassifier()\n",
    "rf = RandomForestClassifier()\n",
    "lr = LogisticRegression()"
   ]
  },
  {
   "cell_type": "code",
   "execution_count": null,
   "id": "dfe98aa6",
   "metadata": {},
   "outputs": [],
   "source": [
    "# Crea el Voting Classifier\n",
    "voting_classifier = VotingClassifier(estimators=[\n",
    "    ('knn', knn),\n",
    "    ('rf', rf),\n",
    "], voting='soft')  # Puedes cambiar a 'soft' si deseas"
   ]
  },
  {
   "cell_type": "code",
   "execution_count": null,
   "id": "0550a889",
   "metadata": {},
   "outputs": [],
   "source": [
    "# Ajusta el modelo a tus datos\n",
    "voting_classifier.fit(X_train, y_train)"
   ]
  },
  {
   "cell_type": "code",
   "execution_count": null,
   "id": "afe7b51d",
   "metadata": {},
   "outputs": [],
   "source": []
  },
  {
   "cell_type": "code",
   "execution_count": null,
   "id": "1751f694",
   "metadata": {},
   "outputs": [],
   "source": []
  },
  {
   "cell_type": "code",
   "execution_count": null,
   "id": "624ff18c",
   "metadata": {},
   "outputs": [],
   "source": []
  },
  {
   "cell_type": "code",
   "execution_count": null,
   "id": "fa5d849c",
   "metadata": {},
   "outputs": [],
   "source": [
    "%run \"functions.ipynb\"\n",
    "voting_classifier = voting_classifier(X_train, y_train, X_test, y_test,voting='hard')"
   ]
  },
  {
   "cell_type": "code",
   "execution_count": null,
   "id": "01139125",
   "metadata": {},
   "outputs": [],
   "source": [
    "param_grid = {\n",
    "    'n_estimators': [50, 100, 200],\n",
    "    'max_depth': [None, 10, 20],\n",
    "    'min_samples_split': [2, 5, 10]\n",
    "}\n",
    "grid_search = GridSearchCV(rf, param_grid, cv=5, scoring='accuracy')\n",
    "grid_search.fit(X_train, y_train)\n",
    "best_params = grid_search.best_params_\n",
    "best_model = grid_search.best_estimator_\n",
    "\n",
    "print(f\"Mejores hiperparámetros: {best_params}\")\n",
    "print(f\"Precisión del mejor modelo: {best_model.score(X_test, y_test):.2f}\")"
   ]
  },
  {
   "cell_type": "markdown",
   "id": "3b25a8e4",
   "metadata": {},
   "source": [
    "LIME"
   ]
  },
  {
   "cell_type": "code",
   "execution_count": null,
   "id": "32c3dbb1",
   "metadata": {},
   "outputs": [],
   "source": [
    "%run \"functions.ipynb\"\n",
    "lime_explanation = lime_explanation(rf, X_train, X_test, y_test, num_samples=500)"
   ]
  },
  {
   "cell_type": "markdown",
   "id": "9ef1c549",
   "metadata": {},
   "source": [
    "SHAP"
   ]
  },
  {
   "cell_type": "code",
   "execution_count": null,
   "id": "dd80177c",
   "metadata": {
    "scrolled": false
   },
   "outputs": [],
   "source": [
    "%run \"functions.ipynb\"\n",
    "shap_explanation(rf, X_test, start_index=1, end_index=30)"
   ]
  },
  {
   "cell_type": "code",
   "execution_count": null,
   "id": "98c80079",
   "metadata": {},
   "outputs": [],
   "source": []
  },
  {
   "cell_type": "code",
   "execution_count": null,
   "id": "2f35e8fd",
   "metadata": {},
   "outputs": [],
   "source": []
  },
  {
   "cell_type": "code",
   "execution_count": null,
   "id": "6c1f0e1d",
   "metadata": {},
   "outputs": [],
   "source": []
  },
  {
   "cell_type": "code",
   "execution_count": null,
   "id": "9339a0df",
   "metadata": {},
   "outputs": [],
   "source": []
  },
  {
   "cell_type": "code",
   "execution_count": null,
   "id": "60db3944",
   "metadata": {},
   "outputs": [],
   "source": []
  },
  {
   "cell_type": "code",
   "execution_count": null,
   "id": "f51584c4",
   "metadata": {},
   "outputs": [],
   "source": []
  },
  {
   "cell_type": "code",
   "execution_count": null,
   "id": "ebfb44a2",
   "metadata": {},
   "outputs": [],
   "source": []
  },
  {
   "cell_type": "code",
   "execution_count": null,
   "id": "f6e0c42a",
   "metadata": {},
   "outputs": [],
   "source": []
  }
 ],
 "metadata": {
  "kernelspec": {
   "display_name": "Python 3 (ipykernel)",
   "language": "python",
   "name": "python3"
  },
  "language_info": {
   "codemirror_mode": {
    "name": "ipython",
    "version": 3
   },
   "file_extension": ".py",
   "mimetype": "text/x-python",
   "name": "python",
   "nbconvert_exporter": "python",
   "pygments_lexer": "ipython3",
   "version": "3.9.13"
  }
 },
 "nbformat": 4,
 "nbformat_minor": 5
}
